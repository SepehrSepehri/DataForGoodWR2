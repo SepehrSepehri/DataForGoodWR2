{
 "cells": [
  {
   "cell_type": "markdown",
   "source": [
    "# Extract tweets for several tweets accounts:"
   ],
   "metadata": {}
  },
  {
   "cell_type": "code",
   "execution_count": 1,
   "source": [
    "import config\r\n",
    "consumer_key= config.consumer_key\r\n",
    "consumer_secret= config.consumer_secret\r\n",
    "access_token = config.access_token\r\n",
    "access_token_secret= config.access_token_secret"
   ],
   "outputs": [],
   "metadata": {}
  },
  {
   "cell_type": "code",
   "execution_count": 2,
   "source": [
    "# importing libraries:\r\n",
    "import tweepy as tw\r\n",
    "import pandas as pd\r\n",
    "import matplotlib.pyplot as plt\r\n",
    "import numpy as np\r\n",
    "import re\r\n",
    "%matplotlib inline"
   ],
   "outputs": [],
   "metadata": {}
  },
  {
   "cell_type": "code",
   "execution_count": 3,
   "source": [
    "# connecting to twitter API and Creating API object\r\n",
    "auth = tw.OAuthHandler(consumer_key, consumer_secret)\r\n",
    "auth.set_access_token(access_token, access_token_secret)\r\n",
    "api = tw.API(auth, wait_on_rate_limit=True)"
   ],
   "outputs": [],
   "metadata": {}
  },
  {
   "cell_type": "code",
   "execution_count": 161,
   "source": [
    "# Define Supporting fucntions to extract url and hashtags from data:\r\n",
    "def url_tweet(url_arg):\r\n",
    "    for url in url_arg:\r\n",
    "        return url['expanded_url']\r\n",
    "\r\n",
    "def find_urls(text):\r\n",
    "    return re.findall(r'https?://.*\\b',text)\r\n",
    "\r\n",
    "\r\n",
    "def hashtag_tweet(entity_arg):\r\n",
    "    tags = []\r\n",
    "    for tag in entity_arg:\r\n",
    "        if tag.get('text') is not None: \r\n",
    "            tags.append(tag.get('text'))\r\n",
    "    return tags\r\n",
    "\r\n",
    "def has_media(entity_arg):\r\n",
    "    if entity_arg != []:\r\n",
    "        return True\r\n",
    "    else:\r\n",
    "        return False\r\n",
    "\r\n",
    "\r\n",
    "def is_reply(reply_id):\r\n",
    "    if reply_id is not None:\r\n",
    "        return True\r\n",
    "    else: \r\n",
    "        return False\r\n",
    "\r\n",
    "def is_poll(poll):\r\n",
    "    if poll != []:\r\n",
    "        return True\r\n",
    "    else:\r\n",
    "        return False\r\n",
    "\r\n",
    "# Define a fucntion to extract tweets from a twitter account timeline and save them in a Pandas Dataframe:\r\n",
    "def tweet(user):\r\n",
    "    print(f'retrieving tweets from {user}.... ')\r\n",
    "    print('This function may take several minutes to run. When the retrieving is finished, you will see the message showing the end of the process.')\r\n",
    "    tweets = tw.Cursor(api.user_timeline,\r\n",
    "                   screen_name=user,\r\n",
    "                   lang=\"en\",\r\n",
    "                   since=\"2010-01-20\",\r\n",
    "                   until='2021-06-01').items(10000)\r\n",
    "\r\n",
    "  \r\n",
    "    users_locs = [[tweet.user.id,tweet.created_at,tweet.user.screen_name, tweet.text, find_urls(tweet.text),\r\n",
    "               tweet.user.location,tweet.favorite_count,tweet.retweet_count,\r\n",
    "               tweet.user.followers_count,tweet.user.friends_count,\r\n",
    "               url_tweet(tweet.entities['urls']),hashtag_tweet(tweet.entities['hashtags']),\r\n",
    "               has_media(tweet.entities.get('media', [])), tweet.is_quote_status,\r\n",
    "               is_reply(tweet.in_reply_to_status_id), is_poll(tweet.entities.get(\"polls\", [])) ] for tweet in tweets]\r\n",
    "\r\n",
    "    tweet_text = pd.DataFrame(data=users_locs, \r\n",
    "                    columns=['ID','created_at', 'screen_name','text','urls', 'location',\r\n",
    "                             'favorite_count', 'retweet_count','followers_count','friends_count',\r\n",
    "                             'URL','hashtags', 'has_media', 'is_quote', 'is_reply', 'has_poll'])\r\n",
    "\r\n",
    "    print('retrieving tweets has been finished.')\r\n",
    "    print(f'{len(tweet_text)} tweets has been retrieved.')\r\n",
    "     \r\n",
    "    return tweet_text\r\n"
   ],
   "outputs": [],
   "metadata": {}
  },
  {
   "cell_type": "code",
   "execution_count": 1,
   "source": [
    "# list of organizations that the tweets exracted from their timeline:\r\n",
    "organizations = organizations_df['twitter_handle'].to_list()\r\n",
    "organizations\r\n",
    "len(organizations)"
   ],
   "outputs": [
    {
     "output_type": "execute_result",
     "data": {
      "text/plain": [
       "46"
      ]
     },
     "metadata": {},
     "execution_count": 1
    }
   ],
   "metadata": {}
  },
  {
   "cell_type": "code",
   "execution_count": 43,
   "source": [
    "# Extracting tweets from organizations\r\n",
    "print('Runing this code may take several minutes to run. When the retrieving is finished, you will see the message showing the end of the process.')\r\n",
    "print(f'Extracting tweets from {len(organizations)}')\r\n",
    "first= True\r\n",
    "for organization in organizations:\r\n",
    "    if first:\r\n",
    "        tweets_df = tweet(organization)\r\n",
    "        first = False\r\n",
    "    else:\r\n",
    "        organization_tweets = tweet(organization)\r\n",
    "        tweets_df = pd.concat([tweets_df,organization_tweets])\r\n",
    "    "
   ],
   "outputs": [
    {
     "output_type": "stream",
     "name": "stdout",
     "text": [
      "Runing this code may take several minutes to run. When the retrieving is finished, you will see the message showing the end of the process.\n",
      "Extracting tweets from 46\n",
      "retrieving tweets from @volunteerWR.... \n",
      "This fucntion may take several minutes to run. When the retrieving is finished, you will see the message showing the end of the process.\n",
      "retrieving tweets has been finished.\n",
      "3215 tweets has been retrieved.\n",
      "retrieving tweets from @RegionWaterloo.... \n",
      "This fucntion may take several minutes to run. When the retrieving is finished, you will see the message showing the end of the process.\n",
      "retrieving tweets has been finished.\n",
      "3239 tweets has been retrieved.\n",
      "retrieving tweets from @SHORECentreWR.... \n",
      "This fucntion may take several minutes to run. When the retrieving is finished, you will see the message showing the end of the process.\n",
      "retrieving tweets has been finished.\n",
      "3193 tweets has been retrieved.\n",
      "retrieving tweets from @kwartgallery.... \n",
      "This fucntion may take several minutes to run. When the retrieving is finished, you will see the message showing the end of the process.\n",
      "retrieving tweets has been finished.\n",
      "3250 tweets has been retrieved.\n",
      "retrieving tweets from @ChildWitnessCtr.... \n",
      "This fucntion may take several minutes to run. When the retrieving is finished, you will see the message showing the end of the process.\n",
      "retrieving tweets has been finished.\n",
      "626 tweets has been retrieved.\n",
      "retrieving tweets from @PrideStables.... \n",
      "This fucntion may take several minutes to run. When the retrieving is finished, you will see the message showing the end of the process.\n",
      "retrieving tweets has been finished.\n",
      "269 tweets has been retrieved.\n",
      "retrieving tweets from @hofwatreg.... \n",
      "This fucntion may take several minutes to run. When the retrieving is finished, you will see the message showing the end of the process.\n",
      "retrieving tweets has been finished.\n",
      "3244 tweets has been retrieved.\n",
      "retrieving tweets from @SASCWR.... \n",
      "This fucntion may take several minutes to run. When the retrieving is finished, you will see the message showing the end of the process.\n",
      "retrieving tweets has been finished.\n",
      "3238 tweets has been retrieved.\n",
      "retrieving tweets from @our_SPECTRUM.... \n",
      "This fucntion may take several minutes to run. When the retrieving is finished, you will see the message showing the end of the process.\n",
      "retrieving tweets has been finished.\n",
      "1562 tweets has been retrieved.\n",
      "retrieving tweets from @KWMulticultural.... \n",
      "This fucntion may take several minutes to run. When the retrieving is finished, you will see the message showing the end of the process.\n",
      "retrieving tweets has been finished.\n",
      "2506 tweets has been retrieved.\n",
      "retrieving tweets from @LangsCommunity.... \n",
      "This fucntion may take several minutes to run. When the retrieving is finished, you will see the message showing the end of the process.\n",
      "retrieving tweets has been finished.\n",
      "3221 tweets has been retrieved.\n",
      "retrieving tweets from @vswaterloo.... \n",
      "This fucntion may take several minutes to run. When the retrieving is finished, you will see the message showing the end of the process.\n",
      "retrieving tweets has been finished.\n",
      "333 tweets has been retrieved.\n",
      "retrieving tweets from @YMCAsofCandKW.... \n",
      "This fucntion may take several minutes to run. When the retrieving is finished, you will see the message showing the end of the process.\n",
      "retrieving tweets has been finished.\n",
      "3227 tweets has been retrieved.\n",
      "retrieving tweets from @cycling_future.... \n",
      "This fucntion may take several minutes to run. When the retrieving is finished, you will see the message showing the end of the process.\n",
      "retrieving tweets has been finished.\n",
      "141 tweets has been retrieved.\n",
      "retrieving tweets from @ywcakw.... \n",
      "This fucntion may take several minutes to run. When the retrieving is finished, you will see the message showing the end of the process.\n",
      "retrieving tweets has been finished.\n",
      "3156 tweets has been retrieved.\n",
      "retrieving tweets from @kwsphumane.... \n",
      "This fucntion may take several minutes to run. When the retrieving is finished, you will see the message showing the end of the process.\n",
      "retrieving tweets has been finished.\n",
      "3248 tweets has been retrieved.\n",
      "retrieving tweets from @THEMUSEUM.... \n",
      "This fucntion may take several minutes to run. When the retrieving is finished, you will see the message showing the end of the process.\n",
      "retrieving tweets has been finished.\n",
      "3247 tweets has been retrieved.\n",
      "retrieving tweets from @kw_symphony.... \n",
      "This fucntion may take several minutes to run. When the retrieving is finished, you will see the message showing the end of the process.\n",
      "retrieving tweets has been finished.\n",
      "3177 tweets has been retrieved.\n",
      "retrieving tweets from @Reception_House.... \n",
      "This fucntion may take several minutes to run. When the retrieving is finished, you will see the message showing the end of the process.\n",
      "retrieving tweets has been finished.\n",
      "2025 tweets has been retrieved.\n",
      "retrieving tweets from @CambFoodBank.... \n",
      "This fucntion may take several minutes to run. When the retrieving is finished, you will see the message showing the end of the process.\n",
      "retrieving tweets has been finished.\n",
      "3181 tweets has been retrieved.\n",
      "retrieving tweets from @Hope_Spring.... \n",
      "This fucntion may take several minutes to run. When the retrieving is finished, you will see the message showing the end of the process.\n",
      "retrieving tweets has been finished.\n",
      "3249 tweets has been retrieved.\n",
      "retrieving tweets from @ROH_1967.... \n",
      "This fucntion may take several minutes to run. When the retrieving is finished, you will see the message showing the end of the process.\n",
      "retrieving tweets has been finished.\n",
      "3232 tweets has been retrieved.\n",
      "retrieving tweets from @Travind111.... \n",
      "This fucntion may take several minutes to run. When the retrieving is finished, you will see the message showing the end of the process.\n",
      "retrieving tweets has been finished.\n",
      "403 tweets has been retrieved.\n",
      "retrieving tweets from @SASCWR.... \n",
      "This fucntion may take several minutes to run. When the retrieving is finished, you will see the message showing the end of the process.\n",
      "retrieving tweets has been finished.\n",
      "3238 tweets has been retrieved.\n",
      "retrieving tweets from @vswaterloo.... \n",
      "This fucntion may take several minutes to run. When the retrieving is finished, you will see the message showing the end of the process.\n",
      "retrieving tweets has been finished.\n",
      "333 tweets has been retrieved.\n",
      "retrieving tweets from @HTsupportWR.... \n",
      "This fucntion may take several minutes to run. When the retrieving is finished, you will see the message showing the end of the process.\n",
      "retrieving tweets has been finished.\n",
      "819 tweets has been retrieved.\n",
      "retrieving tweets from @oneROOFYouth.... \n",
      "This fucntion may take several minutes to run. When the retrieving is finished, you will see the message showing the end of the process.\n",
      "retrieving tweets has been finished.\n",
      "1312 tweets has been retrieved.\n",
      "retrieving tweets from @thekwcf.... \n",
      "This fucntion may take several minutes to run. When the retrieving is finished, you will see the message showing the end of the process.\n",
      "retrieving tweets has been finished.\n",
      "3242 tweets has been retrieved.\n",
      "retrieving tweets from @Workingcentre.... \n",
      "This fucntion may take several minutes to run. When the retrieving is finished, you will see the message showing the end of the process.\n",
      "retrieving tweets has been finished.\n",
      "1214 tweets has been retrieved.\n",
      "retrieving tweets from @KWMulticultural.... \n",
      "This fucntion may take several minutes to run. When the retrieving is finished, you will see the message showing the end of the process.\n",
      "retrieving tweets has been finished.\n",
      "2506 tweets has been retrieved.\n",
      "retrieving tweets from @WomensCrisisSWR.... \n",
      "This fucntion may take several minutes to run. When the retrieving is finished, you will see the message showing the end of the process.\n",
      "retrieving tweets has been finished.\n",
      "3231 tweets has been retrieved.\n",
      "retrieving tweets from @BBBSWR.... \n",
      "This fucntion may take several minutes to run. When the retrieving is finished, you will see the message showing the end of the process.\n",
      "retrieving tweets has been finished.\n",
      "3195 tweets has been retrieved.\n",
      "retrieving tweets from @BEP_WR.... \n",
      "This fucntion may take several minutes to run. When the retrieving is finished, you will see the message showing the end of the process.\n"
     ]
    },
    {
     "output_type": "stream",
     "name": "stdout",
     "text": [
      "retrieving tweets has been finished.\n",
      "3243 tweets has been retrieved.\n",
      "retrieving tweets from @WorkforceWWD.... \n",
      "This fucntion may take several minutes to run. When the retrieving is finished, you will see the message showing the end of the process.\n",
      "retrieving tweets has been finished.\n",
      "1729 tweets has been retrieved.\n",
      "retrieving tweets from @IdeaXchng.... \n",
      "This fucntion may take several minutes to run. When the retrieving is finished, you will see the message showing the end of the process.\n",
      "retrieving tweets has been finished.\n",
      "3233 tweets has been retrieved.\n",
      "retrieving tweets from @KidSportKW.... \n",
      "This fucntion may take several minutes to run. When the retrieving is finished, you will see the message showing the end of the process.\n",
      "retrieving tweets has been finished.\n",
      "1160 tweets has been retrieved.\n",
      "retrieving tweets from @Kinbridge.... \n",
      "This fucntion may take several minutes to run. When the retrieving is finished, you will see the message showing the end of the process.\n",
      "retrieving tweets has been finished.\n",
      "1379 tweets has been retrieved.\n",
      "retrieving tweets from @KMHA_All.... \n",
      "This fucntion may take several minutes to run. When the retrieving is finished, you will see the message showing the end of the process.\n",
      "retrieving tweets has been finished.\n",
      "3232 tweets has been retrieved.\n",
      "retrieving tweets from @KitchLibrary.... \n",
      "This fucntion may take several minutes to run. When the retrieving is finished, you will see the message showing the end of the process.\n",
      "retrieving tweets has been finished.\n",
      "3244 tweets has been retrieved.\n",
      "retrieving tweets from @KitchenerSA.... \n",
      "This fucntion may take several minutes to run. When the retrieving is finished, you will see the message showing the end of the process.\n",
      "retrieving tweets has been finished.\n",
      "1101 tweets has been retrieved.\n",
      "retrieving tweets from @KWDivingClub.... \n",
      "This fucntion may take several minutes to run. When the retrieving is finished, you will see the message showing the end of the process.\n",
      "retrieving tweets has been finished.\n",
      "164 tweets has been retrieved.\n",
      "retrieving tweets from @KWMLA.... \n",
      "This fucntion may take several minutes to run. When the retrieving is finished, you will see the message showing the end of the process.\n",
      "retrieving tweets has been finished.\n",
      "2353 tweets has been retrieved.\n",
      "retrieving tweets from @Strong_Start.... \n",
      "This fucntion may take several minutes to run. When the retrieving is finished, you will see the message showing the end of the process.\n",
      "retrieving tweets has been finished.\n",
      "3247 tweets has been retrieved.\n",
      "retrieving tweets from @TLGwr.... \n",
      "This fucntion may take several minutes to run. When the retrieving is finished, you will see the message showing the end of the process.\n",
      "retrieving tweets has been finished.\n",
      "1918 tweets has been retrieved.\n",
      "retrieving tweets from @RMFaire.... \n",
      "This fucntion may take several minutes to run. When the retrieving is finished, you will see the message showing the end of the process.\n",
      "retrieving tweets has been finished.\n",
      "162 tweets has been retrieved.\n",
      "retrieving tweets from @theMTspace.... \n",
      "This fucntion may take several minutes to run. When the retrieving is finished, you will see the message showing the end of the process.\n",
      "retrieving tweets has been finished.\n",
      "3201 tweets has been retrieved.\n"
     ]
    }
   ],
   "metadata": {}
  },
  {
   "cell_type": "code",
   "execution_count": 44,
   "source": [
    "# add category column:\r\n",
    "tweets_df.merge(organizations_df[['Organization Name','screen_name','agency_catergory']], how='left', on = 'screen_name' )"
   ],
   "outputs": [
    {
     "output_type": "execute_result",
     "data": {
      "text/plain": [
       "(104638, 11)"
      ]
     },
     "metadata": {},
     "execution_count": 44
    }
   ],
   "metadata": {}
  },
  {
   "cell_type": "code",
   "execution_count": 47,
   "source": [
    "tweets_df.reset_index(drop=True, inplace=True)\r\n",
    "tweets_df.head(10)"
   ],
   "outputs": [],
   "metadata": {}
  },
  {
   "cell_type": "code",
   "execution_count": 49,
   "source": [
    "# importing libraries\r\n",
    "\r\n",
    "import nltk\r\n",
    "from nltk.stem.porter import PorterStemmer\r\n",
    "from nltk import word_tokenize\r\n",
    "nltk.download('punkt')\r\n",
    "nltk.download('stopwords')  \r\n",
    "from nltk.corpus import stopwords  \r\n",
    "import re"
   ],
   "outputs": [],
   "metadata": {}
  },
  {
   "cell_type": "markdown",
   "source": [
    "## Removing retweet indicator"
   ],
   "metadata": {}
  },
  {
   "cell_type": "code",
   "execution_count": null,
   "source": [
    "# Removing retweet indicator such as  \"RT @WaterlooLibrary\":\r\n",
    "\r\n",
    "#Extract retweet from the text and save it in 'retween' column:\r\n",
    "tweets_df['retweet']=tweets_df['text'].str.findall(r'RT (@\\w+):')\r\n",
    "\r\n",
    "# Removing retweet from the text:\r\n",
    "def remove_RT(txt):\r\n",
    "    return re.sub(r'RT @\\w+:',r'', txt) \r\n",
    "tweets_df['text_clean']=  [remove_RT(tweet) for tweet in  tweets_df['text']]\r\n",
    "#tweets_df['text']\r\n",
    "tweets_df.loc[0:10]"
   ],
   "outputs": [],
   "metadata": {}
  },
  {
   "cell_type": "code",
   "execution_count": null,
   "source": [
    "# Removing all whitesapces from the beginning and the end of the tweets.\r\n",
    "# Whitespaces are the characters related to new line, tab, and space.\r\n",
    "tweets_df['text_clean'] = [m.strip() for m in tweets_df['text_clean']]\r\n",
    "tweets_df.head()"
   ],
   "outputs": [],
   "metadata": {}
  },
  {
   "cell_type": "markdown",
   "source": [
    "## Removing urls"
   ],
   "metadata": {}
  },
  {
   "cell_type": "code",
   "execution_count": null,
   "source": [
    "# Defining a function for removing urls from the text\r\n",
    "#def remove_url(txt):\r\n",
    "#    return \" \".join(re.sub(\"([^0-9A-Za-z \\t])|(\\w+:\\/\\/\\S+)\", \"\", txt).split())\r\n",
    "\r\n",
    "def remove_url(text):\r\n",
    "    return re.sub(r'https?://.*\\b','',text)\r\n",
    "\r\n",
    "tweets_df['text_clean']=tweets_df['text_clean'].apply(lambda x: remove_url(x))"
   ],
   "outputs": [],
   "metadata": {}
  },
  {
   "cell_type": "markdown",
   "source": [
    "## Removing Emojis"
   ],
   "metadata": {}
  },
  {
   "cell_type": "code",
   "execution_count": null,
   "source": [
    "# Removing emojis from the text\r\n",
    "# The following function revomes the emojis from text. 'apply' function should be used for each text.\r\n",
    "# Apply function: Objects passed to the function are Series objects whose index is either the DataFrame’s index (axis=0) or the DataFrame’s columns (axis=1). \r\n",
    "\r\n",
    "def remove_emoji(string):\r\n",
    "    emoji_pattern = re.compile(\"[\"\r\n",
    "                               u\"\\U0001F600-\\U0001F64F\"  # emoticons\r\n",
    "                               u\"\\U0001F300-\\U0001F5FF\"  # symbols & pictographs\r\n",
    "                               u\"\\U0001F680-\\U0001F6FF\"  # transport & map symbols\r\n",
    "                               u\"\\U0001F1E0-\\U0001F1FF\"  # flags (iOS)\r\n",
    "                               u\"\\U00002500-\\U00002BEF\"  # chinese char\r\n",
    "                               u\"\\U00002702-\\U000027B0\"\r\n",
    "                               u\"\\U00002702-\\U000027B0\"\r\n",
    "                               u\"\\U000024C2-\\U0001F251\"\r\n",
    "                               u\"\\U0001f926-\\U0001f937\"\r\n",
    "                               u\"\\U00010000-\\U0010ffff\"\r\n",
    "                               u\"\\u2640-\\u2642\"\r\n",
    "                               u\"\\u2600-\\u2B55\"\r\n",
    "                               u\"\\u200d\"\r\n",
    "                               u\"\\u23cf\"\r\n",
    "                               u\"\\u23e9\"\r\n",
    "                               u\"\\u231a\"\r\n",
    "                               u\"\\ufe0f\"  # dingbats\r\n",
    "                               u\"\\u3030\"\r\n",
    "                               \"]+\", flags=re.UNICODE)\r\n",
    "    return emoji_pattern.sub(r'', string)\r\n",
    "tweets_df['text_clean']=tweets_df['text_clean'].apply(lambda x: remove_emoji(x))\r\n",
    "\r\n",
    "#Full list of emojies: https://unicode.org/emoji/charts/full-emoji-list.html"
   ],
   "outputs": [],
   "metadata": {}
  },
  {
   "cell_type": "markdown",
   "source": [
    "Removing Punctuations\r\n",
    "string is a pre-built module in python for workingwith strings"
   ],
   "metadata": {}
  },
  {
   "cell_type": "code",
   "execution_count": null,
   "source": [
    "# We use the list of punctuations in the string module for removing the punctuations\r\n",
    "import string\r\n",
    "string.punctuation"
   ],
   "outputs": [],
   "metadata": {}
  },
  {
   "cell_type": "code",
   "execution_count": null,
   "source": [
    "# Defining a supporting function for removing Punctuations\r\n",
    "def remove_punc(text):\r\n",
    "    return text.translate(text.maketrans('','',string.punctuation))\r\n",
    "tweets_df['text_clean']= [remove_punc(x) for x in tweets_df['text_clean']]"
   ],
   "outputs": [],
   "metadata": {}
  },
  {
   "cell_type": "code",
   "execution_count": null,
   "source": [
    "# To export the tweets to json:\r\n",
    "tweets_df.to_json('tweets_all.json')\r\n"
   ],
   "outputs": [],
   "metadata": {}
  },
  {
   "cell_type": "code",
   "execution_count": null,
   "source": [],
   "outputs": [],
   "metadata": {}
  }
 ],
 "metadata": {
  "interpreter": {
   "hash": "ebfddca405812bc9c242c7fc16886d8dc57712d92c4a3836e2e7474ac7a6c7de"
  },
  "kernelspec": {
   "display_name": "Python 3.7.9 64-bit ('base': conda)",
   "name": "python3"
  },
  "language_info": {
   "name": "python",
   "version": ""
  }
 },
 "nbformat": 4,
 "nbformat_minor": 4
}