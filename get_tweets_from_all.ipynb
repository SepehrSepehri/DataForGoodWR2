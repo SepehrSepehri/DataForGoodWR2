{
 "cells": [
  {
   "cell_type": "markdown",
   "metadata": {},
   "source": [
    "# Extract tweets for several tweets accounts:"
   ]
  },
  {
   "cell_type": "code",
   "execution_count": 1,
   "metadata": {},
   "outputs": [],
   "source": [
    "import config\r\n",
    "consumer_key= config.consumer_key\r\n",
    "consumer_secret= config.consumer_secret\r\n",
    "access_token = config.access_token\r\n",
    "access_token_secret= config.access_token_secret"
   ]
  },
  {
   "cell_type": "code",
   "execution_count": 2,
   "metadata": {},
   "outputs": [],
   "source": [
    "# importing libraries:\n",
    "import tweepy as tw\n",
    "import pandas as pd\n",
    "import matplotlib.pyplot as plt\n",
    "import numpy as np\n",
    "import re\n",
    "%matplotlib inline"
   ]
  },
  {
   "cell_type": "code",
   "execution_count": 3,
   "metadata": {},
   "outputs": [],
   "source": [
    "# connecting to twitter API and Creating API object\n",
    "auth = tw.OAuthHandler(consumer_key, consumer_secret)\n",
    "auth.set_access_token(access_token, access_token_secret)\n",
    "api = tw.API(auth, wait_on_rate_limit=True)"
   ]
  },
  {
   "cell_type": "code",
   "execution_count": 161,
   "metadata": {},
   "outputs": [],
   "source": [
    "# Define Supporting fucntions to extract url and hashtags from data:\r\n",
    "def url_tweet(url_arg):\r\n",
    "    for url in url_arg:\r\n",
    "        return url['expanded_url']\r\n",
    "\r\n",
    "def find_urls(text):\r\n",
    "    return re.findall(r'https?://.*\\b',text)\r\n",
    "\r\n",
    "\r\n",
    "def hashtag_tweet(entity_arg):\r\n",
    "    tags = []\r\n",
    "    for tag in entity_arg:\r\n",
    "        if tag.get('text') is not None: \r\n",
    "            tags.append(tag.get('text'))\r\n",
    "    return tags\r\n",
    "\r\n",
    "# Define a fucntion to extract tweets from a twitter account timeline and save them in a Pandas Dataframe:\r\n",
    "def tweet(user):\r\n",
    "    print(f'retrieving tweets from {user}.... ')\r\n",
    "    print('This fucntion may take several minutes to run. When the retrieving is finished, you will see the message showing the end of the process.')\r\n",
    "    tweets = tw.Cursor(api.user_timeline,\r\n",
    "                   screen_name=user,\r\n",
    "                   lang=\"en\",\r\n",
    "                   since=\"2010-01-20\",\r\n",
    "                   until='2021-06-01').items(10000)\r\n",
    "\r\n",
    "  \r\n",
    "    users_locs = [[tweet.user.id,tweet.created_at,tweet.user.screen_name, tweet.text, find_urls(tweet.text),\r\n",
    "               tweet.user.location,tweet.favorite_count,tweet.retweet_count,\r\n",
    "               tweet.user.followers_count,tweet.user.friends_count,\r\n",
    "               url_tweet(tweet.entities['urls']),hashtag_tweet(tweet.entities['hashtags']) ] for tweet in tweets]\r\n",
    "\r\n",
    "    tweet_text = pd.DataFrame(data=users_locs, \r\n",
    "                    columns=['ID','created_at', 'screen_name','text','urls', 'location',\r\n",
    "                             'favorite_count', 'retweet_count','followers_count','friends_count',\r\n",
    "                             'URL','hashtags'])\r\n",
    "\r\n",
    "    print('retrieving tweets has been finished.')\r\n",
    "    print(f'{len(tweet_text)} tweets has been retrieved.')\r\n",
    "     \r\n",
    "    return tweet_text\r\n"
   ]
  },
  {
   "cell_type": "code",
   "execution_count": 1,
   "metadata": {},
   "outputs": [
    {
     "data": {
      "text/plain": [
       "46"
      ]
     },
     "execution_count": 1,
     "metadata": {},
     "output_type": "execute_result"
    }
   ],
   "source": [
    "# list of organizations that the tweets exracted from their timeline:\n",
    "organizations = [\n",
    "'@volunteerWR', \n",
    "'@RegionWaterloo',\n",
    "'@SHORECentreWR',\n",
    "'@kwartgallery',\n",
    "'@ChildWitnessCtr',\n",
    "'@PrideStables',\n",
    "'@hofwatreg',\n",
    "'@SASCWR',\n",
    "'@our_SPECTRUM',\n",
    "'@KWMulticultural',\n",
    "'@LangsCommunity',\n",
    "'@vswaterloo',\n",
    "'@YMCAsofCandKW',\n",
    "'@cycling_future',\n",
    "'@ywcakw',\n",
    "'@kwsphumane',\n",
    "'@THEMUSEUM',\n",
    "'@kw_symphony',\n",
    "'@Reception_House',\n",
    "'@CambFoodBank',\n",
    "'@Hope_Spring',\n",
    "'@ROH_1967',\n",
    "'@Travind111',\n",
    "'@SASCWR',\n",
    "'@vswaterloo',\n",
    "'@HTsupportWR',\n",
    "'@oneROOFYouth',\n",
    "'@thekwcf',\n",
    "'@Workingcentre',\n",
    "'@KWMulticultural',\n",
    "'@WomensCrisisSWR',\n",
    "'@BBBSWR',\n",
    "'@BEP_WR',\n",
    "'@WorkforceWWD',\n",
    "'@IdeaXchng',\n",
    "'@KidSportKW',\n",
    "'@Kinbridge',\n",
    "'@KMHA_All',\n",
    "'@KitchLibrary',\n",
    "'@KitchenerSA',\n",
    "'@KWDivingClub',\n",
    "'@KWMLA',\n",
    "'@Strong_Start',\n",
    "'@TLGwr',\n",
    "'@RMFaire',\n",
    "'@theMTspace']\n",
    "len(organizations)"
   ]
  },
  {
   "cell_type": "code",
   "execution_count": 43,
   "metadata": {},
   "outputs": [
    {
     "name": "stdout",
     "output_type": "stream",
     "text": [
      "Runing this code may take several minutes to run. When the retrieving is finished, you will see the message showing the end of the process.\n",
      "Extracting tweets from 46\n",
      "retrieving tweets from @volunteerWR.... \n",
      "This fucntion may take several minutes to run. When the retrieving is finished, you will see the message showing the end of the process.\n",
      "retrieving tweets has been finished.\n",
      "3215 tweets has been retrieved.\n",
      "retrieving tweets from @RegionWaterloo.... \n",
      "This fucntion may take several minutes to run. When the retrieving is finished, you will see the message showing the end of the process.\n",
      "retrieving tweets has been finished.\n",
      "3239 tweets has been retrieved.\n",
      "retrieving tweets from @SHORECentreWR.... \n",
      "This fucntion may take several minutes to run. When the retrieving is finished, you will see the message showing the end of the process.\n",
      "retrieving tweets has been finished.\n",
      "3193 tweets has been retrieved.\n",
      "retrieving tweets from @kwartgallery.... \n",
      "This fucntion may take several minutes to run. When the retrieving is finished, you will see the message showing the end of the process.\n",
      "retrieving tweets has been finished.\n",
      "3250 tweets has been retrieved.\n",
      "retrieving tweets from @ChildWitnessCtr.... \n",
      "This fucntion may take several minutes to run. When the retrieving is finished, you will see the message showing the end of the process.\n",
      "retrieving tweets has been finished.\n",
      "626 tweets has been retrieved.\n",
      "retrieving tweets from @PrideStables.... \n",
      "This fucntion may take several minutes to run. When the retrieving is finished, you will see the message showing the end of the process.\n",
      "retrieving tweets has been finished.\n",
      "269 tweets has been retrieved.\n",
      "retrieving tweets from @hofwatreg.... \n",
      "This fucntion may take several minutes to run. When the retrieving is finished, you will see the message showing the end of the process.\n",
      "retrieving tweets has been finished.\n",
      "3244 tweets has been retrieved.\n",
      "retrieving tweets from @SASCWR.... \n",
      "This fucntion may take several minutes to run. When the retrieving is finished, you will see the message showing the end of the process.\n",
      "retrieving tweets has been finished.\n",
      "3238 tweets has been retrieved.\n",
      "retrieving tweets from @our_SPECTRUM.... \n",
      "This fucntion may take several minutes to run. When the retrieving is finished, you will see the message showing the end of the process.\n",
      "retrieving tweets has been finished.\n",
      "1562 tweets has been retrieved.\n",
      "retrieving tweets from @KWMulticultural.... \n",
      "This fucntion may take several minutes to run. When the retrieving is finished, you will see the message showing the end of the process.\n",
      "retrieving tweets has been finished.\n",
      "2506 tweets has been retrieved.\n",
      "retrieving tweets from @LangsCommunity.... \n",
      "This fucntion may take several minutes to run. When the retrieving is finished, you will see the message showing the end of the process.\n",
      "retrieving tweets has been finished.\n",
      "3221 tweets has been retrieved.\n",
      "retrieving tweets from @vswaterloo.... \n",
      "This fucntion may take several minutes to run. When the retrieving is finished, you will see the message showing the end of the process.\n",
      "retrieving tweets has been finished.\n",
      "333 tweets has been retrieved.\n",
      "retrieving tweets from @YMCAsofCandKW.... \n",
      "This fucntion may take several minutes to run. When the retrieving is finished, you will see the message showing the end of the process.\n",
      "retrieving tweets has been finished.\n",
      "3227 tweets has been retrieved.\n",
      "retrieving tweets from @cycling_future.... \n",
      "This fucntion may take several minutes to run. When the retrieving is finished, you will see the message showing the end of the process.\n",
      "retrieving tweets has been finished.\n",
      "141 tweets has been retrieved.\n",
      "retrieving tweets from @ywcakw.... \n",
      "This fucntion may take several minutes to run. When the retrieving is finished, you will see the message showing the end of the process.\n",
      "retrieving tweets has been finished.\n",
      "3156 tweets has been retrieved.\n",
      "retrieving tweets from @kwsphumane.... \n",
      "This fucntion may take several minutes to run. When the retrieving is finished, you will see the message showing the end of the process.\n",
      "retrieving tweets has been finished.\n",
      "3248 tweets has been retrieved.\n",
      "retrieving tweets from @THEMUSEUM.... \n",
      "This fucntion may take several minutes to run. When the retrieving is finished, you will see the message showing the end of the process.\n",
      "retrieving tweets has been finished.\n",
      "3247 tweets has been retrieved.\n",
      "retrieving tweets from @kw_symphony.... \n",
      "This fucntion may take several minutes to run. When the retrieving is finished, you will see the message showing the end of the process.\n",
      "retrieving tweets has been finished.\n",
      "3177 tweets has been retrieved.\n",
      "retrieving tweets from @Reception_House.... \n",
      "This fucntion may take several minutes to run. When the retrieving is finished, you will see the message showing the end of the process.\n",
      "retrieving tweets has been finished.\n",
      "2025 tweets has been retrieved.\n",
      "retrieving tweets from @CambFoodBank.... \n",
      "This fucntion may take several minutes to run. When the retrieving is finished, you will see the message showing the end of the process.\n",
      "retrieving tweets has been finished.\n",
      "3181 tweets has been retrieved.\n",
      "retrieving tweets from @Hope_Spring.... \n",
      "This fucntion may take several minutes to run. When the retrieving is finished, you will see the message showing the end of the process.\n",
      "retrieving tweets has been finished.\n",
      "3249 tweets has been retrieved.\n",
      "retrieving tweets from @ROH_1967.... \n",
      "This fucntion may take several minutes to run. When the retrieving is finished, you will see the message showing the end of the process.\n",
      "retrieving tweets has been finished.\n",
      "3232 tweets has been retrieved.\n",
      "retrieving tweets from @Travind111.... \n",
      "This fucntion may take several minutes to run. When the retrieving is finished, you will see the message showing the end of the process.\n",
      "retrieving tweets has been finished.\n",
      "403 tweets has been retrieved.\n",
      "retrieving tweets from @SASCWR.... \n",
      "This fucntion may take several minutes to run. When the retrieving is finished, you will see the message showing the end of the process.\n",
      "retrieving tweets has been finished.\n",
      "3238 tweets has been retrieved.\n",
      "retrieving tweets from @vswaterloo.... \n",
      "This fucntion may take several minutes to run. When the retrieving is finished, you will see the message showing the end of the process.\n",
      "retrieving tweets has been finished.\n",
      "333 tweets has been retrieved.\n",
      "retrieving tweets from @HTsupportWR.... \n",
      "This fucntion may take several minutes to run. When the retrieving is finished, you will see the message showing the end of the process.\n",
      "retrieving tweets has been finished.\n",
      "819 tweets has been retrieved.\n",
      "retrieving tweets from @oneROOFYouth.... \n",
      "This fucntion may take several minutes to run. When the retrieving is finished, you will see the message showing the end of the process.\n",
      "retrieving tweets has been finished.\n",
      "1312 tweets has been retrieved.\n",
      "retrieving tweets from @thekwcf.... \n",
      "This fucntion may take several minutes to run. When the retrieving is finished, you will see the message showing the end of the process.\n",
      "retrieving tweets has been finished.\n",
      "3242 tweets has been retrieved.\n",
      "retrieving tweets from @Workingcentre.... \n",
      "This fucntion may take several minutes to run. When the retrieving is finished, you will see the message showing the end of the process.\n",
      "retrieving tweets has been finished.\n",
      "1214 tweets has been retrieved.\n",
      "retrieving tweets from @KWMulticultural.... \n",
      "This fucntion may take several minutes to run. When the retrieving is finished, you will see the message showing the end of the process.\n",
      "retrieving tweets has been finished.\n",
      "2506 tweets has been retrieved.\n",
      "retrieving tweets from @WomensCrisisSWR.... \n",
      "This fucntion may take several minutes to run. When the retrieving is finished, you will see the message showing the end of the process.\n",
      "retrieving tweets has been finished.\n",
      "3231 tweets has been retrieved.\n",
      "retrieving tweets from @BBBSWR.... \n",
      "This fucntion may take several minutes to run. When the retrieving is finished, you will see the message showing the end of the process.\n",
      "retrieving tweets has been finished.\n",
      "3195 tweets has been retrieved.\n",
      "retrieving tweets from @BEP_WR.... \n",
      "This fucntion may take several minutes to run. When the retrieving is finished, you will see the message showing the end of the process.\n"
     ]
    },
    {
     "name": "stdout",
     "output_type": "stream",
     "text": [
      "retrieving tweets has been finished.\n",
      "3243 tweets has been retrieved.\n",
      "retrieving tweets from @WorkforceWWD.... \n",
      "This fucntion may take several minutes to run. When the retrieving is finished, you will see the message showing the end of the process.\n",
      "retrieving tweets has been finished.\n",
      "1729 tweets has been retrieved.\n",
      "retrieving tweets from @IdeaXchng.... \n",
      "This fucntion may take several minutes to run. When the retrieving is finished, you will see the message showing the end of the process.\n",
      "retrieving tweets has been finished.\n",
      "3233 tweets has been retrieved.\n",
      "retrieving tweets from @KidSportKW.... \n",
      "This fucntion may take several minutes to run. When the retrieving is finished, you will see the message showing the end of the process.\n",
      "retrieving tweets has been finished.\n",
      "1160 tweets has been retrieved.\n",
      "retrieving tweets from @Kinbridge.... \n",
      "This fucntion may take several minutes to run. When the retrieving is finished, you will see the message showing the end of the process.\n",
      "retrieving tweets has been finished.\n",
      "1379 tweets has been retrieved.\n",
      "retrieving tweets from @KMHA_All.... \n",
      "This fucntion may take several minutes to run. When the retrieving is finished, you will see the message showing the end of the process.\n",
      "retrieving tweets has been finished.\n",
      "3232 tweets has been retrieved.\n",
      "retrieving tweets from @KitchLibrary.... \n",
      "This fucntion may take several minutes to run. When the retrieving is finished, you will see the message showing the end of the process.\n",
      "retrieving tweets has been finished.\n",
      "3244 tweets has been retrieved.\n",
      "retrieving tweets from @KitchenerSA.... \n",
      "This fucntion may take several minutes to run. When the retrieving is finished, you will see the message showing the end of the process.\n",
      "retrieving tweets has been finished.\n",
      "1101 tweets has been retrieved.\n",
      "retrieving tweets from @KWDivingClub.... \n",
      "This fucntion may take several minutes to run. When the retrieving is finished, you will see the message showing the end of the process.\n",
      "retrieving tweets has been finished.\n",
      "164 tweets has been retrieved.\n",
      "retrieving tweets from @KWMLA.... \n",
      "This fucntion may take several minutes to run. When the retrieving is finished, you will see the message showing the end of the process.\n",
      "retrieving tweets has been finished.\n",
      "2353 tweets has been retrieved.\n",
      "retrieving tweets from @Strong_Start.... \n",
      "This fucntion may take several minutes to run. When the retrieving is finished, you will see the message showing the end of the process.\n",
      "retrieving tweets has been finished.\n",
      "3247 tweets has been retrieved.\n",
      "retrieving tweets from @TLGwr.... \n",
      "This fucntion may take several minutes to run. When the retrieving is finished, you will see the message showing the end of the process.\n",
      "retrieving tweets has been finished.\n",
      "1918 tweets has been retrieved.\n",
      "retrieving tweets from @RMFaire.... \n",
      "This fucntion may take several minutes to run. When the retrieving is finished, you will see the message showing the end of the process.\n",
      "retrieving tweets has been finished.\n",
      "162 tweets has been retrieved.\n",
      "retrieving tweets from @theMTspace.... \n",
      "This fucntion may take several minutes to run. When the retrieving is finished, you will see the message showing the end of the process.\n",
      "retrieving tweets has been finished.\n",
      "3201 tweets has been retrieved.\n"
     ]
    }
   ],
   "source": [
    "# Extracting tweets from organizations\n",
    "print('Runing this code may take several minutes to run. When the retrieving is finished, you will see the message showing the end of the process.')\n",
    "print(f'Extracting tweets from {len(organizations)}')\n",
    "first= True\n",
    "for organization in organizations:\n",
    "    if first:\n",
    "        tweets_df = tweet(organization)\n",
    "        first = False\n",
    "    else:\n",
    "        organization_tweets = tweet(organization)\n",
    "        tweets_df = pd.concat([tweets_df,organization_tweets])\n",
    "    "
   ]
  },
  {
   "cell_type": "code",
   "execution_count": 44,
   "metadata": {},
   "outputs": [
    {
     "data": {
      "text/plain": [
       "(104638, 11)"
      ]
     },
     "execution_count": 44,
     "metadata": {},
     "output_type": "execute_result"
    }
   ],
   "source": [
    "tweets_df.shape"
   ]
  },
  {
   "cell_type": "code",
   "execution_count": 2,
   "metadata": {},
   "outputs": [
    {
     "ename": "NameError",
     "evalue": "name 'tweets_df' is not defined",
     "output_type": "error",
     "traceback": [
      "\u001b[1;31m---------------------------------------------------------------------------\u001b[0m",
      "\u001b[1;31mNameError\u001b[0m                                 Traceback (most recent call last)",
      "\u001b[1;32m<ipython-input-2-fb06fd176b02>\u001b[0m in \u001b[0;36m<module>\u001b[1;34m\u001b[0m\n\u001b[1;32m----> 1\u001b[1;33m \u001b[0mtweets_df\u001b[0m\u001b[1;33m.\u001b[0m\u001b[0mhead\u001b[0m\u001b[1;33m(\u001b[0m\u001b[1;36m10\u001b[0m\u001b[1;33m)\u001b[0m\u001b[1;33m\u001b[0m\u001b[1;33m\u001b[0m\u001b[0m\n\u001b[0m",
      "\u001b[1;31mNameError\u001b[0m: name 'tweets_df' is not defined"
     ]
    }
   ],
   "source": [
    "tweets_df.head(10)"
   ]
  },
  {
   "cell_type": "code",
   "execution_count": 47,
   "metadata": {},
   "outputs": [],
   "source": [
    "tweets_df.reset_index(drop=True, inplace=True)"
   ]
  },
  {
   "cell_type": "code",
   "execution_count": 51,
   "metadata": {},
   "outputs": [],
   "source": [
    "tweets_df.to_json('tweets_all.json')"
   ]
  },
  {
   "cell_type": "code",
   "execution_count": 49,
   "metadata": {},
   "outputs": [],
   "source": [
    "tweets"
   ]
  },
  {
   "cell_type": "code",
   "execution_count": null,
   "metadata": {},
   "outputs": [],
   "source": []
  }
 ],
 "metadata": {
  "interpreter": {
   "hash": "ebfddca405812bc9c242c7fc16886d8dc57712d92c4a3836e2e7474ac7a6c7de"
  },
  "kernelspec": {
   "display_name": "Python 3.7.9 64-bit ('base': conda)",
   "name": "python3"
  },
  "language_info": {
   "name": "python",
   "version": ""
  }
 },
 "nbformat": 4,
 "nbformat_minor": 4
}